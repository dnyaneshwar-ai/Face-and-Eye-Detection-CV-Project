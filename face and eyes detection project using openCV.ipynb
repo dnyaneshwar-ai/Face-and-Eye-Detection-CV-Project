{
 "cells": [
  {
   "cell_type": "markdown",
   "id": "7bd88594",
   "metadata": {},
   "source": [
    "# Face and Eye Detection using HAAR Cascada Classifier in image"
   ]
  },
  {
   "cell_type": "code",
   "execution_count": 1,
   "id": "0f388cfe",
   "metadata": {},
   "outputs": [
    {
     "name": "stdout",
     "output_type": "stream",
     "text": [
      "Requirement already satisfied: opencv-python in c:\\users\\admin\\anaconda3\\lib\\site-packages (4.6.0.66)Note: you may need to restart the kernel to use updated packages.\n",
      "\n",
      "Requirement already satisfied: numpy>=1.19.3 in c:\\users\\admin\\anaconda3\\lib\\site-packages (from opencv-python) (1.21.5)\n"
     ]
    }
   ],
   "source": [
    "pip install opencv-python"
   ]
  },
  {
   "cell_type": "code",
   "execution_count": 2,
   "id": "28a79456",
   "metadata": {},
   "outputs": [],
   "source": [
    "import cv2"
   ]
  },
  {
   "cell_type": "code",
   "execution_count": 3,
   "id": "a96b1e61",
   "metadata": {},
   "outputs": [],
   "source": [
    "#haarcascade algorithm file to detect face\n",
    "face_classifier = cv2.CascadeClassifier(r\"D:\\ds exel files\\cv data\\Haarcascades\\haarcascade_frontalface_default.xml\")"
   ]
  },
  {
   "cell_type": "code",
   "execution_count": 4,
   "id": "df6fb2dd",
   "metadata": {},
   "outputs": [],
   "source": [
    "#haarcascade algorithm file to detect eyes\n",
    "eye_classifier = cv2.CascadeClassifier(r\"D:\\ds exel files\\cv data\\Haarcascades\\haarcascade_eye.xml\")"
   ]
  },
  {
   "cell_type": "code",
   "execution_count": 5,
   "id": "d0383bc0",
   "metadata": {},
   "outputs": [],
   "source": [
    "image = cv2.imread(r\"D:\\ds exel files\\cv data\\image_examples\\Modi.jpg\")"
   ]
  },
  {
   "cell_type": "code",
   "execution_count": 6,
   "id": "d139328b",
   "metadata": {},
   "outputs": [],
   "source": [
    "resize_image = cv2.resize(image,(500,500))\n",
    "\n",
    "#bcs img pixel is (1500*1358) which not suitable for our laptop bcs laptop pixel (1920, 1080) so you have to take pixel below this to see completly\n",
    "\n",
    "gray = cv2.cvtColor(resize_image, cv2.COLOR_BGR2GRAY)\n",
    "\n",
    "# to reduce complexity"
   ]
  },
  {
   "cell_type": "code",
   "execution_count": 7,
   "id": "44bfd1ce",
   "metadata": {},
   "outputs": [],
   "source": [
    "# tunning cascade Classifier - detectMultiScale(input image. **Scale Factor**, **min neighbors**)\n",
    "faces = face_classifier.detectMultiScale(gray, 1.3, 5)"
   ]
  },
  {
   "cell_type": "code",
   "execution_count": 8,
   "id": "01cae424",
   "metadata": {},
   "outputs": [
    {
     "name": "stderr",
     "output_type": "stream",
     "text": [
      "<>:1: SyntaxWarning: \"is\" with a literal. Did you mean \"==\"?\n",
      "<>:1: SyntaxWarning: \"is\" with a literal. Did you mean \"==\"?\n",
      "C:\\Users\\Admin\\AppData\\Local\\Temp\\ipykernel_31220\\4083459619.py:1: SyntaxWarning: \"is\" with a literal. Did you mean \"==\"?\n",
      "  if faces is ():\n"
     ]
    }
   ],
   "source": [
    "if faces is ():\n",
    "    print('no face found')\n",
    "    \n",
    "for (x,y,w,h) in faces:\n",
    "    cv2.rectangle(resize_image, (x,y), (x+w, y+h), (255, 0, 0), 2)\n",
    "    roi_gray = gray[y:y+h, x:x+w]\n",
    "    roi_color = resize_image[y:y+h, x:x+w]  #not usable\n",
    "    eyes = eye_classifier.detectMultiScale(roi_gray, 1.1, 3)\n",
    "    for (ex,ey,ew,eh) in eyes:\n",
    "        cv2.rectangle(roi_color,(ex,ey),(ex+ew, ey+eh),(0,255,0),2)"
   ]
  },
  {
   "cell_type": "code",
   "execution_count": 9,
   "id": "9b496a46",
   "metadata": {},
   "outputs": [
    {
     "data": {
      "text/plain": [
       "13"
      ]
     },
     "execution_count": 9,
     "metadata": {},
     "output_type": "execute_result"
    }
   ],
   "source": [
    "cv2.imshow('img', resize_image)\n",
    "cv2.waitKey()"
   ]
  },
  {
   "cell_type": "code",
   "execution_count": 10,
   "id": "5e6f5efc",
   "metadata": {},
   "outputs": [],
   "source": [
    "cv2.destroyAllWindows()"
   ]
  },
  {
   "cell_type": "code",
   "execution_count": null,
   "id": "b49c0dc8",
   "metadata": {},
   "outputs": [],
   "source": []
  }
 ],
 "metadata": {
  "kernelspec": {
   "display_name": "Python 3 (ipykernel)",
   "language": "python",
   "name": "python3"
  },
  "language_info": {
   "codemirror_mode": {
    "name": "ipython",
    "version": 3
   },
   "file_extension": ".py",
   "mimetype": "text/x-python",
   "name": "python",
   "nbconvert_exporter": "python",
   "pygments_lexer": "ipython3",
   "version": "3.9.13"
  }
 },
 "nbformat": 4,
 "nbformat_minor": 5
}
